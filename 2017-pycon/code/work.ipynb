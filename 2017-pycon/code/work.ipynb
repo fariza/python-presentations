{
 "cells": [
  {
   "cell_type": "code",
   "execution_count": null,
   "metadata": {
    "collapsed": false
   },
   "outputs": [],
   "source": [
    "import matplotlib\n",
    "matplotlib.use('GTK3Agg')\n",
    "matplotlib.rcParams['toolbar'] = 'toolmanager'\n",
    "import matplotlib.pyplot as plt"
   ]
  },
  {
   "cell_type": "code",
   "execution_count": null,
   "metadata": {
    "collapsed": false
   },
   "outputs": [],
   "source": [
    "fig = plt.figure()\n",
    "plt.plot([1, 2, 3], label='Super data')\n",
    "plt.show()"
   ]
  },
  {
   "cell_type": "code",
   "execution_count": null,
   "metadata": {
    "collapsed": true
   },
   "outputs": [],
   "source": [
    "fig.canvas.manager.toolbar.remove_toolitem('forward')"
   ]
  },
  {
   "cell_type": "code",
   "execution_count": null,
   "metadata": {
    "collapsed": true
   },
   "outputs": [],
   "source": [
    "fig.canvas.manager.toolbar.add_tool('zoom', 'foo')"
   ]
  },
  {
   "cell_type": "code",
   "execution_count": null,
   "metadata": {
    "collapsed": true
   },
   "outputs": [],
   "source": [
    "fig.canvas.manager.toolmanager.remove_tool('save')"
   ]
  },
  {
   "cell_type": "code",
   "execution_count": null,
   "metadata": {
    "collapsed": true
   },
   "outputs": [],
   "source": [
    "from matplotlib.backend_tools import ToolBase\n",
    "class ExtraSimple(ToolBase):\n",
    "    description = 'Encourage yourself'\n",
    "    default_keymap = 'C'\n",
    "    def trigger(self, *args, **kwargs):\n",
    "        self.toolmanager.message_event(\"You are doing great!!\")"
   ]
  },
  {
   "cell_type": "code",
   "execution_count": null,
   "metadata": {
    "collapsed": false
   },
   "outputs": [],
   "source": [
    "fig.canvas.manager.toolmanager.add_tool('simple', ExtraSimple)"
   ]
  },
  {
   "cell_type": "code",
   "execution_count": null,
   "metadata": {
    "collapsed": true
   },
   "outputs": [],
   "source": [
    "fig.canvas.manager.toolbar.add_tool('simple', 'navigation')"
   ]
  },
  {
   "cell_type": "code",
   "execution_count": null,
   "metadata": {
    "collapsed": true
   },
   "outputs": [],
   "source": [
    "from matplotlib.backend_tools import ToolToggleBase\n",
    "\n",
    "class ToggleLegend(ToolToggleBase):\n",
    "    description = 'Toggle the legend'\n",
    "    default_toggled = True\n",
    "    default_keymap = 'l'\n",
    "\n",
    "    def visibility(self, state):\n",
    "        for leg in list(self.figure.legends):\n",
    "            leg.set_visible(state)\n",
    "        for a in self.figure.get_axes():\n",
    "            leg = a.get_legend()\n",
    "            if leg:\n",
    "                leg.set_visible(state)\n",
    "        self.figure.canvas.draw_idle()\n",
    "\n",
    "    def enable(self, event):\n",
    "        self.visibility(True)\n",
    "\n",
    "    def disable(self, event):\n",
    "        self.visibility(False)\n"
   ]
  },
  {
   "cell_type": "code",
   "execution_count": null,
   "metadata": {
    "collapsed": false
   },
   "outputs": [],
   "source": [
    "plt.legend()"
   ]
  },
  {
   "cell_type": "code",
   "execution_count": null,
   "metadata": {
    "collapsed": false
   },
   "outputs": [],
   "source": [
    "fig.canvas.manager.toolmanager.add_tool('legend', ToggleLegend)\n",
    "fig.canvas.manager.toolbar.add_tool('legend', 'io')"
   ]
  },
  {
   "cell_type": "code",
   "execution_count": null,
   "metadata": {
    "collapsed": true
   },
   "outputs": [],
   "source": []
  }
 ],
 "metadata": {
  "kernelspec": {
   "display_name": "Python 3",
   "language": "python",
   "name": "python3"
  },
  "language_info": {
   "codemirror_mode": {
    "name": "ipython",
    "version": 3
   },
   "file_extension": ".py",
   "mimetype": "text/x-python",
   "name": "python",
   "nbconvert_exporter": "python",
   "pygments_lexer": "ipython3",
   "version": "3.5.3"
  },
  "widgets": {
   "state": {},
   "version": "1.1.2"
  }
 },
 "nbformat": 4,
 "nbformat_minor": 0
}
