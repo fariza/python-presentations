{
 "cells": [
  {
   "cell_type": "markdown",
   "metadata": {
    "slideshow": {
     "slide_type": "slide"
    }
   },
   "source": [
    "#Matplotlib. My first MEP\n",
    "\n",
    "**A.K.A. How I became a Matplotlib developper.**\n",
    "\n",
    "-----------------\n",
    "\n",
    "-----------------\n",
    "\n",
    "-----------------\n",
    "\n",
    "-----------------\n",
    "\n",
    "-----------------\n",
    "\n",
    "\n",
    "## MEP22\n",
    "### Federico Ariza ariza.federico@gmail.com\n",
    "### https://github.com/fariza\n",
    "-----------------\n",
    "\n",
    "-----------------\n",
    "\n",
    "-----------------\n",
    "\n",
    "-----------------\n",
    "\n",
    "-----------------\n"
   ]
  },
  {
   "cell_type": "markdown",
   "metadata": {},
   "source": [
    "\n",
    "\n",
    "## Traditional Matplotlib imports + a little magic"
   ]
  },
  {
   "cell_type": "code",
   "execution_count": 1,
   "metadata": {
    "collapsed": true,
    "slideshow": {
     "slide_type": "subslide"
    }
   },
   "outputs": [],
   "source": [
    "%matplotlib tk\n",
    "import matplotlib\n",
    "matplotlib.use('tkagg')\n",
    "matplotlib.rcParams['toolbar'] = 'toolmanager'\n",
    "import matplotlib.pyplot as plt"
   ]
  },
  {
   "cell_type": "markdown",
   "metadata": {
    "slideshow": {
     "slide_type": "slide"
    }
   },
   "source": [
    "## Typical messy plot"
   ]
  },
  {
   "cell_type": "code",
   "execution_count": 2,
   "metadata": {
    "collapsed": false,
    "slideshow": {
     "slide_type": "subslide"
    }
   },
   "outputs": [],
   "source": [
    "import numpy as np\n",
    "x = np.linspace(0, 2*np.pi, 50)\n",
    "def get_y(phase):\n",
    "    y = np.sin(x + phase)\n",
    "    y2 = y + 0.1 * np.random.normal(size=x.shape)\n",
    "    return y, y2\n",
    "\n",
    "fig, ax = plt.subplots()\n",
    "phases = [0, 0.2, 0.5, 0.7, 2., 3., 4.]\n",
    "\n",
    "for i, phase in enumerate(phases):\n",
    "    y, y2 = get_y(phase)\n",
    "    line = ax.plot(x, y,  gid=str(i), picker=5, lw=4)\n",
    "    ax.plot(x, y2, 'o', gid=str(i), picker=5, markersize=8)"
   ]
  },
  {
   "cell_type": "markdown",
   "metadata": {},
   "source": [
    "### Simple Tool"
   ]
  },
  {
   "cell_type": "code",
   "execution_count": 3,
   "metadata": {
    "collapsed": true
   },
   "outputs": [],
   "source": [
    "from matplotlib.backend_tools import ToolBase\n",
    "\n",
    "class ExtraSimple(ToolBase):\n",
    "    default_keymap = 'C'\n",
    "    def trigger(self, *args, **kwargs):\n",
    "        self.toolmanager.message_event(\"You are doing great!!\")\n"
   ]
  },
  {
   "cell_type": "code",
   "execution_count": 4,
   "metadata": {
    "collapsed": false
   },
   "outputs": [],
   "source": [
    "t = fig.canvas.manager.toolmanager.add_tool('simple', ExtraSimple)"
   ]
  },
  {
   "cell_type": "code",
   "execution_count": 5,
   "metadata": {
    "collapsed": false
   },
   "outputs": [],
   "source": [
    "fig.canvas.manager.toolbar.add_tool('simple', 'navigation')"
   ]
  },
  {
   "cell_type": "markdown",
   "metadata": {},
   "source": [
    "## Little bit more complex tool"
   ]
  },
  {
   "cell_type": "code",
   "execution_count": 6,
   "metadata": {
    "collapsed": true
   },
   "outputs": [],
   "source": [
    "from matplotlib.backend_tools import ToolToggleBase\n",
    "\n",
    "\n",
    "class VisibilityTool(ToolToggleBase):\n",
    "\n",
    "    def __init__(self, *args, **kwargs):\n",
    "        self.group = kwargs.pop('group')\n",
    "        ToolToggleBase.__init__(self, *args, **kwargs)\n",
    "\n",
    "    def enable(self, *args, **kwargs):\n",
    "        self.set_lines_visibility(False)\n",
    "\n",
    "    def disable(self, *args, **kwargs):\n",
    "        self.set_lines_visibility(True)\n",
    "\n",
    "    def set_lines_visibility(self, state):\n",
    "        gr_lines = []\n",
    "        for ax in self.figure.get_axes():\n",
    "            for line in ax.get_lines():\n",
    "                if line.get_gid() == self.group:\n",
    "                    line.set_visible(state)\n",
    "        self.figure.canvas.draw()\n"
   ]
  },
  {
   "cell_type": "code",
   "execution_count": 7,
   "metadata": {
    "collapsed": false
   },
   "outputs": [],
   "source": [
    "try:\n",
    "    fig.canvas.manager.toolmanager.remove_tool('nav')\n",
    "    \n",
    "except KeyError:\n",
    "    pass\n",
    "\n",
    "for i in range(len(phases)):\n",
    "    key = str(i)\n",
    "    fig.canvas.manager.toolmanager.add_tool(key, VisibilityTool, group=key)\n",
    "    fig.canvas.manager.toolmanager.update_keymap(key, key)"
   ]
  },
  {
   "cell_type": "markdown",
   "metadata": {},
   "source": [
    "## Those colors....."
   ]
  },
  {
   "cell_type": "code",
   "execution_count": 8,
   "metadata": {
    "collapsed": false
   },
   "outputs": [],
   "source": [
    "from matplotlib.backend_tools import ToolToggleBase\n",
    "from matplotlib import colors\n",
    "from tkColorChooser import askcolor \n",
    "\n",
    "class ThatColor(ToolToggleBase):\n",
    "    def __init__(self, *args, **kwargs):\n",
    "        self.pid = None\n",
    "        ToolToggleBase.__init__(self, *args, **kwargs)\n",
    "        self.converter = colors.ColorConverter()\n",
    "\n",
    "    def enable(self, *args, **kwargs):\n",
    "        self.toolmanager.message_event('enable')\n",
    "        self.pid = self.figure.canvas.mpl_connect('pick_event', self.onpick)\n",
    "\n",
    "\n",
    "    def disable(self, *args, **kwargs):\n",
    "        self.figure.canvas.mpl_disconnect(self.pid)\n",
    "        self.pid = None\n",
    "\n",
    "    def onpick(self, event):\n",
    "        thisline = event.artist\n",
    "        original = thisline.get_color()\n",
    "        if original is None:\n",
    "            original = thisline.get_markerfacecolor()\n",
    "        original = self.converter.to_rgb(original)\n",
    "        original = colors.rgb2hex(original)\n",
    "        color = askcolor(original)[1]\n",
    "        thisline.set_color(color)\n",
    "        self.figure.canvas.draw()\n"
   ]
  },
  {
   "cell_type": "code",
   "execution_count": 9,
   "metadata": {
    "collapsed": false
   },
   "outputs": [],
   "source": [
    "fig.canvas.manager.toolmanager.add_tool('color', ThatColor)\n",
    "fig.canvas.manager.toolbar.add_tool('color', 'io')"
   ]
  },
  {
   "cell_type": "code",
   "execution_count": null,
   "metadata": {
    "collapsed": true
   },
   "outputs": [],
   "source": []
  }
 ],
 "metadata": {
  "kernelspec": {
   "display_name": "Python 2",
   "language": "python",
   "name": "python2"
  },
  "language_info": {
   "codemirror_mode": {
    "name": "ipython",
    "version": 2
   },
   "file_extension": ".py",
   "mimetype": "text/x-python",
   "name": "python",
   "nbconvert_exporter": "python",
   "pygments_lexer": "ipython2",
   "version": "2.7.8"
  }
 },
 "nbformat": 4,
 "nbformat_minor": 0
}
